{
 "cells": [
  {
   "cell_type": "code",
   "execution_count": 2,
   "metadata": {},
   "outputs": [
    {
     "name": "stdout",
     "output_type": "stream",
     "text": [
      "Washing machine is powered on.\n",
      "Selected washing cycle: Normal\n",
      "Started Normal cycle.\n",
      "Washing machine stopped.\n",
      "Washing machine is powered off.\n"
     ]
    }
   ],
   "source": [
    "class WashingMachine:\n",
    "    def __init__(self):\n",
    "        self.is_power_on = False\n",
    "        self.is_running = False\n",
    "        self.selected_cycle = None\n",
    "\n",
    "    def turn_on(self):\n",
    "        if not self.is_power_on:\n",
    "            self.is_power_on = True\n",
    "            print(\"Washing machine is powered on.\")\n",
    "\n",
    "    def turn_off(self):\n",
    "        if not self.is_running:\n",
    "            self.is_power_on = False\n",
    "            print(\"Washing machine is powered off.\")\n",
    "        else:\n",
    "            print(\"Cannot turn off while the machine is running.\")\n",
    "\n",
    "    def select_cycle(self, cycle):\n",
    "        if self.is_power_on and not self.is_running:\n",
    "            self.selected_cycle = cycle\n",
    "            print(f\"Selected washing cycle: {cycle}\")\n",
    "        else:\n",
    "            print(\"Cannot change cycle while the machine is running or is not powered on.\")\n",
    "\n",
    "    def start(self):\n",
    "        if self.is_power_on and self.selected_cycle and not self.is_running:\n",
    "            self.is_running = True\n",
    "            print(f\"Started {self.selected_cycle} cycle.\")\n",
    "\n",
    "    def stop(self):\n",
    "        if self.is_running:\n",
    "            self.is_running = False\n",
    "            print(\"Washing machine stopped.\")\n",
    "        else:\n",
    "            print(\"The washing machine is not running.\")\n",
    "\n",
    "def main():\n",
    "    washing_machine = WashingMachine()\n",
    "    washing_machine.turn_on()\n",
    "    washing_machine.select_cycle(\"Normal\")\n",
    "    washing_machine.start()\n",
    "    washing_machine.stop()\n",
    "    washing_machine.turn_off()\n",
    "\n",
    "if __name__ == \"__main__\":\n",
    "    main()\n"
   ]
  }
 ],
 "metadata": {
  "kernelspec": {
   "display_name": "Python 3",
   "language": "python",
   "name": "python3"
  },
  "language_info": {
   "codemirror_mode": {
    "name": "ipython",
    "version": 3
   },
   "file_extension": ".py",
   "mimetype": "text/x-python",
   "name": "python",
   "nbconvert_exporter": "python",
   "pygments_lexer": "ipython3",
   "version": "3.11.6"
  }
 },
 "nbformat": 4,
 "nbformat_minor": 2
}
