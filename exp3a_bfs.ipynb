{
 "cells": [
  {
   "cell_type": "code",
   "execution_count": 10,
   "metadata": {},
   "outputs": [
    {
     "name": "stdout",
     "output_type": "stream",
     "text": [
      "Shortest path from B to F: B -> E -> F\n"
     ]
    }
   ],
   "source": [
    "from collections import deque\n",
    "\n",
    "def shortest_path(graph, start, end):\n",
    "    visited, queue = set(), deque([(start, [start])])\n",
    "    while queue:\n",
    "        vertex, path = queue.popleft()\n",
    "        if vertex == end:\n",
    "            return path\n",
    "        visited.add(vertex)\n",
    "        queue.extend((n, path + [n]) for n in graph[vertex] if n not in visited)\n",
    "\n",
    "city_network = {'A': ['B', 'C'], 'B': ['A', 'D', 'E'], 'C': ['A', 'F'], 'D': ['B'], 'E': ['B', 'F'], 'F': ['C', 'E']}\n",
    "start_city, end_city = 'B', 'F'\n",
    "\n",
    "shortest_path = shortest_path(city_network, start_city, end_city)\n",
    "print(f\"Shortest path from {start_city} to {end_city}: {' -> '.join(shortest_path)}\" \n",
    "      if shortest_path \n",
    "      else f\"No path found from {start_city} to {end_city}\")"
   ]
  }
 ],
 "metadata": {
  "kernelspec": {
   "display_name": "Python 3",
   "language": "python",
   "name": "python3"
  },
  "language_info": {
   "codemirror_mode": {
    "name": "ipython",
    "version": 3
   },
   "file_extension": ".py",
   "mimetype": "text/x-python",
   "name": "python",
   "nbconvert_exporter": "python",
   "pygments_lexer": "ipython3",
   "version": "3.11.6"
  }
 },
 "nbformat": 4,
 "nbformat_minor": 2
}
